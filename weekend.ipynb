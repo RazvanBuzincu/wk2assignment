{
 "cells": [
  {
   "cell_type": "code",
   "execution_count": 14,
   "id": "938525e6-2895-4fa7-8cb3-04ba1749556b",
   "metadata": {},
   "outputs": [
    {
     "name": "stdin",
     "output_type": "stream",
     "text": [
      "Enter choice Rock\n"
     ]
    },
    {
     "name": "stdout",
     "output_type": "stream",
     "text": [
      "Rock\n"
     ]
    }
   ],
   "source": [
    "user = input(\"Enter choice\")# Get user input\n",
    "print(user)\n",
    "\n"
   ]
  },
  {
   "cell_type": "code",
   "execution_count": 15,
   "id": "1bbb7ace-9ea5-406f-8a20-5ef47df0cd00",
   "metadata": {},
   "outputs": [
    {
     "name": "stdout",
     "output_type": "stream",
     "text": [
      "Paper\n"
     ]
    }
   ],
   "source": [
    "import random\n",
    "cpu = random.choice([\"Rock\", \"Paper\", \"Scissors\"])\n",
    "print(cpu)"
   ]
  },
  {
   "cell_type": "code",
   "execution_count": 16,
   "id": "05513bef-695b-4543-a9bc-97cd8ff7b9f0",
   "metadata": {},
   "outputs": [
    {
     "name": "stdout",
     "output_type": "stream",
     "text": [
      "You lose!\n"
     ]
    }
   ],
   "source": [
    "if user == (\"Rock\"):\n",
    "    if cpu == (\"Rock\"):\n",
    "        print(\"It's a tie!\")\n",
    "    elif cpu == (\"Paper\"):\n",
    "        print(\"You lose!\")\n",
    "    else:\n",
    "        print(\"You win!\")\n",
    "if user == (\"Paper\"):\n",
    "    if cpu == (\"Rock\"):\n",
    "        print(\"You win!\")\n",
    "    elif cpu == (\"Paper\"):\n",
    "        print(\"It's a tie!\")\n",
    "    else:\n",
    "        print(\"You lose!\")\n",
    "if user == (\"Scissors\"):\n",
    "    if cpu == (\"Scissors\"):\n",
    "        print(\"It's a tie!\")\n",
    "    elif cpu == (\"Paper\"):\n",
    "        print(\"You win!\")\n",
    "    else:\n",
    "        print(\"You lose!\")\n"
   ]
  },
  {
   "cell_type": "code",
   "execution_count": 5,
   "id": "307a50ee-9221-444a-bf0f-e95ee6c2e49a",
   "metadata": {},
   "outputs": [
    {
     "name": "stdin",
     "output_type": "stream",
     "text": [
      "Enter one of Rock/Paper/Scissors paper\n"
     ]
    },
    {
     "name": "stdout",
     "output_type": "stream",
     "text": [
      "I choose Paper\n",
      "cpu chooses Rock\n",
      "You win!\n"
     ]
    },
    {
     "name": "stdin",
     "output_type": "stream",
     "text": [
      "Enter one of Rock/Paper/Scissors quit\n"
     ]
    }
   ],
   "source": [
    "import random\n",
    "\n",
    "while True:\n",
    "    user = input(\"Enter one of Rock/Paper/Scissors\").capitalize() # Get user input\n",
    "    if user == (\"Quit\"):\n",
    "        break\n",
    "    cpu = random.choice([\"Rock\", \"Paper\", \"Scissors\"]) # Get computer input\n",
    "    print(f\"I choose {user}\")\n",
    "    print(f\"cpu chooses {cpu}\")\n",
    "# build a function that determines the winner\n",
    "    if user == (\"Rock\"):\n",
    "        if cpu == (\"Rock\"):\n",
    "            print(\"It's a tie!\")\n",
    "        elif cpu == (\"Paper\"):\n",
    "            print(\"You lose!\")\n",
    "        else:\n",
    "            print(\"You win!\")\n",
    "    if user == (\"Paper\"):\n",
    "        if cpu == (\"Rock\"):\n",
    "            print(\"You win!\")\n",
    "        elif cpu == (\"Paper\"):\n",
    "            print(\"It's a tie!\")\n",
    "        else:\n",
    "            print(\"You lose!\")\n",
    "    if user == (\"Scissors\"):\n",
    "        if cpu == (\"Scissors\"):\n",
    "            print(\"It's a tie!\")\n",
    "        elif cpu == (\"Paper\"):\n",
    "            print(\"You win!\")\n",
    "        else:\n",
    "            print(\"You lose!\")\n",
    "    \n"
   ]
  },
  {
   "cell_type": "code",
   "execution_count": 13,
   "id": "fb39f596-7ade-4dda-858b-0c4115f6e69c",
   "metadata": {},
   "outputs": [
    {
     "name": "stdin",
     "output_type": "stream",
     "text": [
      "Enter one of Rock/Paper/Scissors paper\n"
     ]
    },
    {
     "name": "stdout",
     "output_type": "stream",
     "text": [
      "I choose Paper\n",
      "cpu chooses Scissors\n",
      "You lose!\n",
      "You have 0 Cpu has 1 Ties 0\n"
     ]
    },
    {
     "name": "stdin",
     "output_type": "stream",
     "text": [
      "Enter one of Rock/Paper/Scissors rock\n"
     ]
    },
    {
     "name": "stdout",
     "output_type": "stream",
     "text": [
      "I choose Rock\n",
      "cpu chooses Paper\n",
      "You lose!\n",
      "You have 0 Cpu has 2 Ties 0\n"
     ]
    },
    {
     "name": "stdin",
     "output_type": "stream",
     "text": [
      "Enter one of Rock/Paper/Scissors quit\n"
     ]
    }
   ],
   "source": [
    "rules = {\n",
    "        \"Rock\": \"Scissors\",\n",
    "        \"Paper\": \"Rock\",\n",
    "        \"Scissors\": \"Paper\"\n",
    "    }\n",
    "\n",
    "\n",
    "win_score, lose_score, draw = 0, 0, 0\n",
    "\n",
    "while True:\n",
    "    user = input(\"Enter one of Rock/Paper/Scissors\").capitalize() # Get user input\n",
    "    if user == (\"Quit\"):\n",
    "        break\n",
    "    cpu = random.choice([\"Rock\", \"Paper\", \"Scissors\"]) # Get computer input\n",
    "    print(f\"I choose {user}\")\n",
    "    print(f\"cpu chooses {cpu}\")\n",
    "    if user == cpu:\n",
    "        print(\"It's a tie!\")\n",
    "        draw += 1\n",
    "    elif rules[user] == cpu:\n",
    "        print(\"You won!\")\n",
    "        win_score += 1\n",
    "    else:\n",
    "        print(\"You lose!\")\n",
    "        lose_score += 1\n",
    "    print(f\"You have {win_score} Cpu has {lose_score} Ties {draw}\")\n",
    "        "
   ]
  },
  {
   "cell_type": "code",
   "execution_count": 6,
   "id": "4264aa58-511e-4815-a580-66f71925a1df",
   "metadata": {},
   "outputs": [
    {
     "name": "stdout",
     "output_type": "stream",
     "text": [
      "scissors\n"
     ]
    }
   ],
   "source": [
    "rules = {\n",
    "        \"rock\": \"scissors\",\n",
    "        \"paper\": \"rock\",\n",
    "        \"scissors\": \"paper\"\n",
    "    }\n",
    "print(rules[\"rock\"])"
   ]
  },
  {
   "cell_type": "code",
   "execution_count": null,
   "id": "2456238d-4d26-4263-8435-1ed813bc8f28",
   "metadata": {},
   "outputs": [],
   "source": []
  }
 ],
 "metadata": {
  "kernelspec": {
   "display_name": "Python 3 (ipykernel)",
   "language": "python",
   "name": "python3"
  },
  "language_info": {
   "codemirror_mode": {
    "name": "ipython",
    "version": 3
   },
   "file_extension": ".py",
   "mimetype": "text/x-python",
   "name": "python",
   "nbconvert_exporter": "python",
   "pygments_lexer": "ipython3",
   "version": "3.12.1"
  }
 },
 "nbformat": 4,
 "nbformat_minor": 5
}
